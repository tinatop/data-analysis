{
 "cells": [
  {
   "cell_type": "markdown",
   "id": "6f190f79",
   "metadata": {},
   "source": [
    "# SPO - Bike sharing demand"
   ]
  },
  {
   "cell_type": "code",
   "execution_count": 35,
   "id": "d4a47f25",
   "metadata": {},
   "outputs": [],
   "source": [
    "import pandas as pd\n",
    "import numpy as np\n",
    "import seaborn as sns\n",
    "import matplotlib.pyplot as plt\n",
    "import warnings\n",
    "%matplotlib inline"
   ]
  },
  {
   "cell_type": "code",
   "execution_count": 36,
   "id": "c1c8e938",
   "metadata": {},
   "outputs": [
    {
     "data": {
      "text/html": [
       "<div>\n",
       "<style scoped>\n",
       "    .dataframe tbody tr th:only-of-type {\n",
       "        vertical-align: middle;\n",
       "    }\n",
       "\n",
       "    .dataframe tbody tr th {\n",
       "        vertical-align: top;\n",
       "    }\n",
       "\n",
       "    .dataframe thead th {\n",
       "        text-align: right;\n",
       "    }\n",
       "</style>\n",
       "<table border=\"1\" class=\"dataframe\">\n",
       "  <thead>\n",
       "    <tr style=\"text-align: right;\">\n",
       "      <th></th>\n",
       "      <th>instant</th>\n",
       "      <th>dteday</th>\n",
       "      <th>season</th>\n",
       "      <th>yr</th>\n",
       "      <th>mnth</th>\n",
       "      <th>hr</th>\n",
       "      <th>holiday</th>\n",
       "      <th>weekday</th>\n",
       "      <th>workingday</th>\n",
       "      <th>weathersit</th>\n",
       "      <th>temp</th>\n",
       "      <th>atemp</th>\n",
       "      <th>hum</th>\n",
       "      <th>windspeed</th>\n",
       "      <th>casual</th>\n",
       "      <th>registered</th>\n",
       "      <th>cnt</th>\n",
       "    </tr>\n",
       "  </thead>\n",
       "  <tbody>\n",
       "    <tr>\n",
       "      <th>0</th>\n",
       "      <td>1</td>\n",
       "      <td>2011-01-01</td>\n",
       "      <td>1</td>\n",
       "      <td>0</td>\n",
       "      <td>1</td>\n",
       "      <td>0</td>\n",
       "      <td>0</td>\n",
       "      <td>6</td>\n",
       "      <td>0</td>\n",
       "      <td>1</td>\n",
       "      <td>0.24</td>\n",
       "      <td>0.2879</td>\n",
       "      <td>0.81</td>\n",
       "      <td>0.0000</td>\n",
       "      <td>3</td>\n",
       "      <td>13</td>\n",
       "      <td>16</td>\n",
       "    </tr>\n",
       "    <tr>\n",
       "      <th>1</th>\n",
       "      <td>2</td>\n",
       "      <td>2011-01-01</td>\n",
       "      <td>1</td>\n",
       "      <td>0</td>\n",
       "      <td>1</td>\n",
       "      <td>1</td>\n",
       "      <td>0</td>\n",
       "      <td>6</td>\n",
       "      <td>0</td>\n",
       "      <td>1</td>\n",
       "      <td>0.22</td>\n",
       "      <td>0.2727</td>\n",
       "      <td>0.80</td>\n",
       "      <td>0.0000</td>\n",
       "      <td>8</td>\n",
       "      <td>32</td>\n",
       "      <td>40</td>\n",
       "    </tr>\n",
       "    <tr>\n",
       "      <th>2</th>\n",
       "      <td>3</td>\n",
       "      <td>2011-01-01</td>\n",
       "      <td>1</td>\n",
       "      <td>0</td>\n",
       "      <td>1</td>\n",
       "      <td>2</td>\n",
       "      <td>0</td>\n",
       "      <td>6</td>\n",
       "      <td>0</td>\n",
       "      <td>1</td>\n",
       "      <td>0.22</td>\n",
       "      <td>0.2727</td>\n",
       "      <td>0.80</td>\n",
       "      <td>0.0000</td>\n",
       "      <td>5</td>\n",
       "      <td>27</td>\n",
       "      <td>32</td>\n",
       "    </tr>\n",
       "    <tr>\n",
       "      <th>3</th>\n",
       "      <td>4</td>\n",
       "      <td>2011-01-01</td>\n",
       "      <td>1</td>\n",
       "      <td>0</td>\n",
       "      <td>1</td>\n",
       "      <td>3</td>\n",
       "      <td>0</td>\n",
       "      <td>6</td>\n",
       "      <td>0</td>\n",
       "      <td>1</td>\n",
       "      <td>0.24</td>\n",
       "      <td>0.2879</td>\n",
       "      <td>0.75</td>\n",
       "      <td>0.0000</td>\n",
       "      <td>3</td>\n",
       "      <td>10</td>\n",
       "      <td>13</td>\n",
       "    </tr>\n",
       "    <tr>\n",
       "      <th>4</th>\n",
       "      <td>5</td>\n",
       "      <td>2011-01-01</td>\n",
       "      <td>1</td>\n",
       "      <td>0</td>\n",
       "      <td>1</td>\n",
       "      <td>4</td>\n",
       "      <td>0</td>\n",
       "      <td>6</td>\n",
       "      <td>0</td>\n",
       "      <td>1</td>\n",
       "      <td>0.24</td>\n",
       "      <td>0.2879</td>\n",
       "      <td>0.75</td>\n",
       "      <td>0.0000</td>\n",
       "      <td>0</td>\n",
       "      <td>1</td>\n",
       "      <td>1</td>\n",
       "    </tr>\n",
       "    <tr>\n",
       "      <th>...</th>\n",
       "      <td>...</td>\n",
       "      <td>...</td>\n",
       "      <td>...</td>\n",
       "      <td>...</td>\n",
       "      <td>...</td>\n",
       "      <td>...</td>\n",
       "      <td>...</td>\n",
       "      <td>...</td>\n",
       "      <td>...</td>\n",
       "      <td>...</td>\n",
       "      <td>...</td>\n",
       "      <td>...</td>\n",
       "      <td>...</td>\n",
       "      <td>...</td>\n",
       "      <td>...</td>\n",
       "      <td>...</td>\n",
       "      <td>...</td>\n",
       "    </tr>\n",
       "    <tr>\n",
       "      <th>95</th>\n",
       "      <td>96</td>\n",
       "      <td>2011-01-05</td>\n",
       "      <td>1</td>\n",
       "      <td>0</td>\n",
       "      <td>1</td>\n",
       "      <td>4</td>\n",
       "      <td>0</td>\n",
       "      <td>3</td>\n",
       "      <td>1</td>\n",
       "      <td>1</td>\n",
       "      <td>0.24</td>\n",
       "      <td>0.2273</td>\n",
       "      <td>0.48</td>\n",
       "      <td>0.2239</td>\n",
       "      <td>0</td>\n",
       "      <td>2</td>\n",
       "      <td>2</td>\n",
       "    </tr>\n",
       "    <tr>\n",
       "      <th>96</th>\n",
       "      <td>97</td>\n",
       "      <td>2011-01-05</td>\n",
       "      <td>1</td>\n",
       "      <td>0</td>\n",
       "      <td>1</td>\n",
       "      <td>5</td>\n",
       "      <td>0</td>\n",
       "      <td>3</td>\n",
       "      <td>1</td>\n",
       "      <td>1</td>\n",
       "      <td>0.22</td>\n",
       "      <td>0.2273</td>\n",
       "      <td>0.47</td>\n",
       "      <td>0.1642</td>\n",
       "      <td>0</td>\n",
       "      <td>3</td>\n",
       "      <td>3</td>\n",
       "    </tr>\n",
       "    <tr>\n",
       "      <th>97</th>\n",
       "      <td>98</td>\n",
       "      <td>2011-01-05</td>\n",
       "      <td>1</td>\n",
       "      <td>0</td>\n",
       "      <td>1</td>\n",
       "      <td>6</td>\n",
       "      <td>0</td>\n",
       "      <td>3</td>\n",
       "      <td>1</td>\n",
       "      <td>1</td>\n",
       "      <td>0.20</td>\n",
       "      <td>0.1970</td>\n",
       "      <td>0.47</td>\n",
       "      <td>0.2239</td>\n",
       "      <td>0</td>\n",
       "      <td>33</td>\n",
       "      <td>33</td>\n",
       "    </tr>\n",
       "    <tr>\n",
       "      <th>98</th>\n",
       "      <td>99</td>\n",
       "      <td>2011-01-05</td>\n",
       "      <td>1</td>\n",
       "      <td>0</td>\n",
       "      <td>1</td>\n",
       "      <td>7</td>\n",
       "      <td>0</td>\n",
       "      <td>3</td>\n",
       "      <td>1</td>\n",
       "      <td>1</td>\n",
       "      <td>0.18</td>\n",
       "      <td>0.1818</td>\n",
       "      <td>0.43</td>\n",
       "      <td>0.1940</td>\n",
       "      <td>1</td>\n",
       "      <td>87</td>\n",
       "      <td>88</td>\n",
       "    </tr>\n",
       "    <tr>\n",
       "      <th>99</th>\n",
       "      <td>100</td>\n",
       "      <td>2011-01-05</td>\n",
       "      <td>1</td>\n",
       "      <td>0</td>\n",
       "      <td>1</td>\n",
       "      <td>8</td>\n",
       "      <td>0</td>\n",
       "      <td>3</td>\n",
       "      <td>1</td>\n",
       "      <td>1</td>\n",
       "      <td>0.20</td>\n",
       "      <td>0.1818</td>\n",
       "      <td>0.40</td>\n",
       "      <td>0.2985</td>\n",
       "      <td>3</td>\n",
       "      <td>192</td>\n",
       "      <td>195</td>\n",
       "    </tr>\n",
       "  </tbody>\n",
       "</table>\n",
       "<p>100 rows × 17 columns</p>\n",
       "</div>"
      ],
      "text/plain": [
       "    instant      dteday  season  yr  mnth  hr  holiday  weekday  workingday  \\\n",
       "0         1  2011-01-01       1   0     1   0        0        6           0   \n",
       "1         2  2011-01-01       1   0     1   1        0        6           0   \n",
       "2         3  2011-01-01       1   0     1   2        0        6           0   \n",
       "3         4  2011-01-01       1   0     1   3        0        6           0   \n",
       "4         5  2011-01-01       1   0     1   4        0        6           0   \n",
       "..      ...         ...     ...  ..   ...  ..      ...      ...         ...   \n",
       "95       96  2011-01-05       1   0     1   4        0        3           1   \n",
       "96       97  2011-01-05       1   0     1   5        0        3           1   \n",
       "97       98  2011-01-05       1   0     1   6        0        3           1   \n",
       "98       99  2011-01-05       1   0     1   7        0        3           1   \n",
       "99      100  2011-01-05       1   0     1   8        0        3           1   \n",
       "\n",
       "    weathersit  temp   atemp   hum  windspeed  casual  registered  cnt  \n",
       "0            1  0.24  0.2879  0.81     0.0000       3          13   16  \n",
       "1            1  0.22  0.2727  0.80     0.0000       8          32   40  \n",
       "2            1  0.22  0.2727  0.80     0.0000       5          27   32  \n",
       "3            1  0.24  0.2879  0.75     0.0000       3          10   13  \n",
       "4            1  0.24  0.2879  0.75     0.0000       0           1    1  \n",
       "..         ...   ...     ...   ...        ...     ...         ...  ...  \n",
       "95           1  0.24  0.2273  0.48     0.2239       0           2    2  \n",
       "96           1  0.22  0.2273  0.47     0.1642       0           3    3  \n",
       "97           1  0.20  0.1970  0.47     0.2239       0          33   33  \n",
       "98           1  0.18  0.1818  0.43     0.1940       1          87   88  \n",
       "99           1  0.20  0.1818  0.40     0.2985       3         192  195  \n",
       "\n",
       "[100 rows x 17 columns]"
      ]
     },
     "execution_count": 36,
     "metadata": {},
     "output_type": "execute_result"
    }
   ],
   "source": [
    "#Učitavanje podataka iz excel tablice\n",
    "df = pd.read_csv('hour.csv')\n",
    "df.head(100)"
   ]
  },
  {
   "cell_type": "code",
   "execution_count": 37,
   "id": "33280322",
   "metadata": {},
   "outputs": [],
   "source": [
    "###OPIS STUPACA\n",
    "#- instant: record index\n",
    "#\t- dteday : date\n",
    "#\t- season : season (1:springer, 2:summer, 3:fall, 4:winter)\n",
    "#\t- yr : year (0: 2011, 1:2012)\n",
    "#\t- mnth : month ( 1 to 12)\n",
    "#\t- hr : hour (0 to 23)\n",
    "#\t- holiday : weather day is holiday or not (extracted from http://dchr.dc.gov/page/holiday-schedule)\n",
    "#\t- weekday : day of the week\n",
    "#\t- workingday : if day is neither weekend nor holiday is 1, otherwise is 0.\n",
    "#\t+ weathersit : \n",
    "#\t\t- 1: Clear, Few clouds, Partly cloudy, Partly cloudy\n",
    "#\t\t- 2: Mist + Cloudy, Mist + Broken clouds, Mist + Few clouds, Mist\n",
    "#\t\t- 3: Light Snow, Light Rain + Thunderstorm + Scattered clouds, Light Rain + Scattered clouds\n",
    "#\t\t- 4: Heavy Rain + Ice Pallets + Thunderstorm + Mist, Snow + Fog\n",
    "#\t- temp : Normalized temperature in Celsius. The values are divided to 41 (max)\n",
    "#\t- atemp: Normalized feeling temperature in Celsius. The values are divided to 50 (max)\n",
    "#\t- hum: Normalized humidity. The values are divided to 100 (max)\n",
    "#\t- windspeed: Normalized wind speed. The values are divided to 67 (max)\n",
    "#\t- casual: count of casual users\n",
    "#\t- registered: count of registered users\n",
    "#\t- cnt: count of total rental bikes including both casual and registered"
   ]
  },
  {
   "cell_type": "code",
   "execution_count": 38,
   "id": "e5765095",
   "metadata": {},
   "outputs": [
    {
     "data": {
      "text/plain": [
       "(17379, 17)"
      ]
     },
     "execution_count": 38,
     "metadata": {},
     "output_type": "execute_result"
    }
   ],
   "source": [
    "#provjerimo dimezije polja\n",
    "df.shape"
   ]
  },
  {
   "cell_type": "code",
   "execution_count": 39,
   "id": "eb2156d5",
   "metadata": {},
   "outputs": [
    {
     "data": {
      "text/html": [
       "<div>\n",
       "<style scoped>\n",
       "    .dataframe tbody tr th:only-of-type {\n",
       "        vertical-align: middle;\n",
       "    }\n",
       "\n",
       "    .dataframe tbody tr th {\n",
       "        vertical-align: top;\n",
       "    }\n",
       "\n",
       "    .dataframe thead th {\n",
       "        text-align: right;\n",
       "    }\n",
       "</style>\n",
       "<table border=\"1\" class=\"dataframe\">\n",
       "  <thead>\n",
       "    <tr style=\"text-align: right;\">\n",
       "      <th></th>\n",
       "      <th>count</th>\n",
       "      <th>mean</th>\n",
       "      <th>std</th>\n",
       "      <th>min</th>\n",
       "      <th>25%</th>\n",
       "      <th>50%</th>\n",
       "      <th>75%</th>\n",
       "      <th>max</th>\n",
       "    </tr>\n",
       "  </thead>\n",
       "  <tbody>\n",
       "    <tr>\n",
       "      <th>instant</th>\n",
       "      <td>17379.0</td>\n",
       "      <td>8690.000000</td>\n",
       "      <td>5017.029500</td>\n",
       "      <td>1.00</td>\n",
       "      <td>4345.5000</td>\n",
       "      <td>8690.0000</td>\n",
       "      <td>13034.5000</td>\n",
       "      <td>17379.0000</td>\n",
       "    </tr>\n",
       "    <tr>\n",
       "      <th>season</th>\n",
       "      <td>17379.0</td>\n",
       "      <td>2.501640</td>\n",
       "      <td>1.106918</td>\n",
       "      <td>1.00</td>\n",
       "      <td>2.0000</td>\n",
       "      <td>3.0000</td>\n",
       "      <td>3.0000</td>\n",
       "      <td>4.0000</td>\n",
       "    </tr>\n",
       "    <tr>\n",
       "      <th>yr</th>\n",
       "      <td>17379.0</td>\n",
       "      <td>0.502561</td>\n",
       "      <td>0.500008</td>\n",
       "      <td>0.00</td>\n",
       "      <td>0.0000</td>\n",
       "      <td>1.0000</td>\n",
       "      <td>1.0000</td>\n",
       "      <td>1.0000</td>\n",
       "    </tr>\n",
       "    <tr>\n",
       "      <th>mnth</th>\n",
       "      <td>17379.0</td>\n",
       "      <td>6.537775</td>\n",
       "      <td>3.438776</td>\n",
       "      <td>1.00</td>\n",
       "      <td>4.0000</td>\n",
       "      <td>7.0000</td>\n",
       "      <td>10.0000</td>\n",
       "      <td>12.0000</td>\n",
       "    </tr>\n",
       "    <tr>\n",
       "      <th>hr</th>\n",
       "      <td>17379.0</td>\n",
       "      <td>11.546752</td>\n",
       "      <td>6.914405</td>\n",
       "      <td>0.00</td>\n",
       "      <td>6.0000</td>\n",
       "      <td>12.0000</td>\n",
       "      <td>18.0000</td>\n",
       "      <td>23.0000</td>\n",
       "    </tr>\n",
       "    <tr>\n",
       "      <th>holiday</th>\n",
       "      <td>17379.0</td>\n",
       "      <td>0.028770</td>\n",
       "      <td>0.167165</td>\n",
       "      <td>0.00</td>\n",
       "      <td>0.0000</td>\n",
       "      <td>0.0000</td>\n",
       "      <td>0.0000</td>\n",
       "      <td>1.0000</td>\n",
       "    </tr>\n",
       "    <tr>\n",
       "      <th>weekday</th>\n",
       "      <td>17379.0</td>\n",
       "      <td>3.003683</td>\n",
       "      <td>2.005771</td>\n",
       "      <td>0.00</td>\n",
       "      <td>1.0000</td>\n",
       "      <td>3.0000</td>\n",
       "      <td>5.0000</td>\n",
       "      <td>6.0000</td>\n",
       "    </tr>\n",
       "    <tr>\n",
       "      <th>workingday</th>\n",
       "      <td>17379.0</td>\n",
       "      <td>0.682721</td>\n",
       "      <td>0.465431</td>\n",
       "      <td>0.00</td>\n",
       "      <td>0.0000</td>\n",
       "      <td>1.0000</td>\n",
       "      <td>1.0000</td>\n",
       "      <td>1.0000</td>\n",
       "    </tr>\n",
       "    <tr>\n",
       "      <th>weathersit</th>\n",
       "      <td>17379.0</td>\n",
       "      <td>1.425283</td>\n",
       "      <td>0.639357</td>\n",
       "      <td>1.00</td>\n",
       "      <td>1.0000</td>\n",
       "      <td>1.0000</td>\n",
       "      <td>2.0000</td>\n",
       "      <td>4.0000</td>\n",
       "    </tr>\n",
       "    <tr>\n",
       "      <th>temp</th>\n",
       "      <td>17379.0</td>\n",
       "      <td>0.496987</td>\n",
       "      <td>0.192556</td>\n",
       "      <td>0.02</td>\n",
       "      <td>0.3400</td>\n",
       "      <td>0.5000</td>\n",
       "      <td>0.6600</td>\n",
       "      <td>1.0000</td>\n",
       "    </tr>\n",
       "    <tr>\n",
       "      <th>atemp</th>\n",
       "      <td>17379.0</td>\n",
       "      <td>0.475775</td>\n",
       "      <td>0.171850</td>\n",
       "      <td>0.00</td>\n",
       "      <td>0.3333</td>\n",
       "      <td>0.4848</td>\n",
       "      <td>0.6212</td>\n",
       "      <td>1.0000</td>\n",
       "    </tr>\n",
       "    <tr>\n",
       "      <th>hum</th>\n",
       "      <td>17379.0</td>\n",
       "      <td>0.627229</td>\n",
       "      <td>0.192930</td>\n",
       "      <td>0.00</td>\n",
       "      <td>0.4800</td>\n",
       "      <td>0.6300</td>\n",
       "      <td>0.7800</td>\n",
       "      <td>1.0000</td>\n",
       "    </tr>\n",
       "    <tr>\n",
       "      <th>windspeed</th>\n",
       "      <td>17379.0</td>\n",
       "      <td>0.190098</td>\n",
       "      <td>0.122340</td>\n",
       "      <td>0.00</td>\n",
       "      <td>0.1045</td>\n",
       "      <td>0.1940</td>\n",
       "      <td>0.2537</td>\n",
       "      <td>0.8507</td>\n",
       "    </tr>\n",
       "    <tr>\n",
       "      <th>casual</th>\n",
       "      <td>17379.0</td>\n",
       "      <td>35.676218</td>\n",
       "      <td>49.305030</td>\n",
       "      <td>0.00</td>\n",
       "      <td>4.0000</td>\n",
       "      <td>17.0000</td>\n",
       "      <td>48.0000</td>\n",
       "      <td>367.0000</td>\n",
       "    </tr>\n",
       "    <tr>\n",
       "      <th>registered</th>\n",
       "      <td>17379.0</td>\n",
       "      <td>153.786869</td>\n",
       "      <td>151.357286</td>\n",
       "      <td>0.00</td>\n",
       "      <td>34.0000</td>\n",
       "      <td>115.0000</td>\n",
       "      <td>220.0000</td>\n",
       "      <td>886.0000</td>\n",
       "    </tr>\n",
       "    <tr>\n",
       "      <th>cnt</th>\n",
       "      <td>17379.0</td>\n",
       "      <td>189.463088</td>\n",
       "      <td>181.387599</td>\n",
       "      <td>1.00</td>\n",
       "      <td>40.0000</td>\n",
       "      <td>142.0000</td>\n",
       "      <td>281.0000</td>\n",
       "      <td>977.0000</td>\n",
       "    </tr>\n",
       "  </tbody>\n",
       "</table>\n",
       "</div>"
      ],
      "text/plain": [
       "              count         mean          std   min        25%        50%  \\\n",
       "instant     17379.0  8690.000000  5017.029500  1.00  4345.5000  8690.0000   \n",
       "season      17379.0     2.501640     1.106918  1.00     2.0000     3.0000   \n",
       "yr          17379.0     0.502561     0.500008  0.00     0.0000     1.0000   \n",
       "mnth        17379.0     6.537775     3.438776  1.00     4.0000     7.0000   \n",
       "hr          17379.0    11.546752     6.914405  0.00     6.0000    12.0000   \n",
       "holiday     17379.0     0.028770     0.167165  0.00     0.0000     0.0000   \n",
       "weekday     17379.0     3.003683     2.005771  0.00     1.0000     3.0000   \n",
       "workingday  17379.0     0.682721     0.465431  0.00     0.0000     1.0000   \n",
       "weathersit  17379.0     1.425283     0.639357  1.00     1.0000     1.0000   \n",
       "temp        17379.0     0.496987     0.192556  0.02     0.3400     0.5000   \n",
       "atemp       17379.0     0.475775     0.171850  0.00     0.3333     0.4848   \n",
       "hum         17379.0     0.627229     0.192930  0.00     0.4800     0.6300   \n",
       "windspeed   17379.0     0.190098     0.122340  0.00     0.1045     0.1940   \n",
       "casual      17379.0    35.676218    49.305030  0.00     4.0000    17.0000   \n",
       "registered  17379.0   153.786869   151.357286  0.00    34.0000   115.0000   \n",
       "cnt         17379.0   189.463088   181.387599  1.00    40.0000   142.0000   \n",
       "\n",
       "                   75%         max  \n",
       "instant     13034.5000  17379.0000  \n",
       "season          3.0000      4.0000  \n",
       "yr              1.0000      1.0000  \n",
       "mnth           10.0000     12.0000  \n",
       "hr             18.0000     23.0000  \n",
       "holiday         0.0000      1.0000  \n",
       "weekday         5.0000      6.0000  \n",
       "workingday      1.0000      1.0000  \n",
       "weathersit      2.0000      4.0000  \n",
       "temp            0.6600      1.0000  \n",
       "atemp           0.6212      1.0000  \n",
       "hum             0.7800      1.0000  \n",
       "windspeed       0.2537      0.8507  \n",
       "casual         48.0000    367.0000  \n",
       "registered    220.0000    886.0000  \n",
       "cnt           281.0000    977.0000  "
      ]
     },
     "execution_count": 39,
     "metadata": {},
     "output_type": "execute_result"
    }
   ],
   "source": [
    "# statistički opis\n",
    "df.describe().transpose()"
   ]
  },
  {
   "cell_type": "code",
   "execution_count": 40,
   "id": "5047b108",
   "metadata": {},
   "outputs": [
    {
     "name": "stdout",
     "output_type": "stream",
     "text": [
      "<class 'pandas.core.frame.DataFrame'>\n",
      "RangeIndex: 17379 entries, 0 to 17378\n",
      "Data columns (total 17 columns):\n",
      " #   Column      Non-Null Count  Dtype  \n",
      "---  ------      --------------  -----  \n",
      " 0   instant     17379 non-null  int64  \n",
      " 1   dteday      17379 non-null  object \n",
      " 2   season      17379 non-null  int64  \n",
      " 3   yr          17379 non-null  int64  \n",
      " 4   mnth        17379 non-null  int64  \n",
      " 5   hr          17379 non-null  int64  \n",
      " 6   holiday     17379 non-null  int64  \n",
      " 7   weekday     17379 non-null  int64  \n",
      " 8   workingday  17379 non-null  int64  \n",
      " 9   weathersit  17379 non-null  int64  \n",
      " 10  temp        17379 non-null  float64\n",
      " 11  atemp       17379 non-null  float64\n",
      " 12  hum         17379 non-null  float64\n",
      " 13  windspeed   17379 non-null  float64\n",
      " 14  casual      17379 non-null  int64  \n",
      " 15  registered  17379 non-null  int64  \n",
      " 16  cnt         17379 non-null  int64  \n",
      "dtypes: float64(4), int64(12), object(1)\n",
      "memory usage: 2.3+ MB\n"
     ]
    }
   ],
   "source": [
    "# provjerimo tipove podataka\n",
    "df.info()"
   ]
  },
  {
   "cell_type": "code",
   "execution_count": 41,
   "id": "c234b7fd",
   "metadata": {},
   "outputs": [
    {
     "data": {
      "text/plain": [
       "instant       0\n",
       "dteday        0\n",
       "season        0\n",
       "yr            0\n",
       "mnth          0\n",
       "hr            0\n",
       "holiday       0\n",
       "weekday       0\n",
       "workingday    0\n",
       "weathersit    0\n",
       "temp          0\n",
       "atemp         0\n",
       "hum           0\n",
       "windspeed     0\n",
       "casual        0\n",
       "registered    0\n",
       "cnt           0\n",
       "dtype: int64"
      ]
     },
     "execution_count": 41,
     "metadata": {},
     "output_type": "execute_result"
    }
   ],
   "source": [
    "# provjera kako bi vidjeli ima li nepostojećih vrijednosti\n",
    "df.isnull().sum()\n",
    "#Rezultat: nema nepostojećih vrijednosti"
   ]
  },
  {
   "cell_type": "code",
   "execution_count": 42,
   "id": "186432ff",
   "metadata": {},
   "outputs": [
    {
     "data": {
      "text/plain": [
       "[None,\n",
       " None,\n",
       " None,\n",
       " None,\n",
       " None,\n",
       " None,\n",
       " None,\n",
       " None,\n",
       " None,\n",
       " None,\n",
       " None,\n",
       " None,\n",
       " None,\n",
       " None,\n",
       " None,\n",
       " None]"
      ]
     },
     "execution_count": 42,
     "metadata": {},
     "output_type": "execute_result"
    },
    {
     "data": {
      "image/png": "[encoded data removed]",
      "text/plain": [
       "<Figure size 3600x2160 with 16 Axes>"
      ]
     },
     "metadata": {
      "needs_background": "light"
     },
     "output_type": "display_data"
    }
   ],
   "source": [
    "#prikaz histograma\n",
    "fig = df.hist(figsize=(50, 30))\n",
    "[x.title.set_size(32) for x in fig.ravel()]"
   ]
  },
  {
   "cell_type": "code",
   "execution_count": 43,
   "id": "0b86fbca",
   "metadata": {},
   "outputs": [
    {
     "data": {
      "text/plain": [
       "0"
      ]
     },
     "execution_count": 43,
     "metadata": {},
     "output_type": "execute_result"
    }
   ],
   "source": [
    "#provjerimo imamo li duplikate\n",
    "df.duplicated().sum()"
   ]
  },
  {
   "cell_type": "code",
   "execution_count": 44,
   "id": "d5ec40a1",
   "metadata": {},
   "outputs": [],
   "source": [
    "df.drop(['instant', 'dteday', 'casual', 'registered'], axis=1, inplace=True)\n",
    "#možemo obrisati stupce:\n",
    "#instant (id vrijednosti)\n",
    "#dteday : imamo zasebne stupce za godinu, mjesec, dan\n",
    "#casual & registered : broj ljudi koji su unajmili bicikl već se nalazi u cnt stupcu\n",
    "\n"
   ]
  },
  {
   "cell_type": "code",
   "execution_count": 45,
   "id": "c572fc89",
   "metadata": {},
   "outputs": [
    {
     "data": {
      "text/html": [
       "<div>\n",
       "<style scoped>\n",
       "    .dataframe tbody tr th:only-of-type {\n",
       "        vertical-align: middle;\n",
       "    }\n",
       "\n",
       "    .dataframe tbody tr th {\n",
       "        vertical-align: top;\n",
       "    }\n",
       "\n",
       "    .dataframe thead th {\n",
       "        text-align: right;\n",
       "    }\n",
       "</style>\n",
       "<table border=\"1\" class=\"dataframe\">\n",
       "  <thead>\n",
       "    <tr style=\"text-align: right;\">\n",
       "      <th></th>\n",
       "      <th>season</th>\n",
       "      <th>yr</th>\n",
       "      <th>mnth</th>\n",
       "      <th>hr</th>\n",
       "      <th>holiday</th>\n",
       "      <th>weekday</th>\n",
       "      <th>workingday</th>\n",
       "      <th>weathersit</th>\n",
       "      <th>temp</th>\n",
       "      <th>atemp</th>\n",
       "      <th>hum</th>\n",
       "      <th>windspeed</th>\n",
       "      <th>cnt</th>\n",
       "      <th>target</th>\n",
       "    </tr>\n",
       "  </thead>\n",
       "  <tbody>\n",
       "    <tr>\n",
       "      <th>0</th>\n",
       "      <td>1</td>\n",
       "      <td>0</td>\n",
       "      <td>1</td>\n",
       "      <td>0</td>\n",
       "      <td>0</td>\n",
       "      <td>6</td>\n",
       "      <td>0</td>\n",
       "      <td>1</td>\n",
       "      <td>0.24</td>\n",
       "      <td>0.2879</td>\n",
       "      <td>0.81</td>\n",
       "      <td>0.0000</td>\n",
       "      <td>16</td>\n",
       "      <td>BELOW_A</td>\n",
       "    </tr>\n",
       "    <tr>\n",
       "      <th>1</th>\n",
       "      <td>1</td>\n",
       "      <td>0</td>\n",
       "      <td>1</td>\n",
       "      <td>1</td>\n",
       "      <td>0</td>\n",
       "      <td>6</td>\n",
       "      <td>0</td>\n",
       "      <td>1</td>\n",
       "      <td>0.22</td>\n",
       "      <td>0.2727</td>\n",
       "      <td>0.80</td>\n",
       "      <td>0.0000</td>\n",
       "      <td>40</td>\n",
       "      <td>BELOW_A</td>\n",
       "    </tr>\n",
       "    <tr>\n",
       "      <th>2</th>\n",
       "      <td>1</td>\n",
       "      <td>0</td>\n",
       "      <td>1</td>\n",
       "      <td>2</td>\n",
       "      <td>0</td>\n",
       "      <td>6</td>\n",
       "      <td>0</td>\n",
       "      <td>1</td>\n",
       "      <td>0.22</td>\n",
       "      <td>0.2727</td>\n",
       "      <td>0.80</td>\n",
       "      <td>0.0000</td>\n",
       "      <td>32</td>\n",
       "      <td>BELOW_A</td>\n",
       "    </tr>\n",
       "    <tr>\n",
       "      <th>3</th>\n",
       "      <td>1</td>\n",
       "      <td>0</td>\n",
       "      <td>1</td>\n",
       "      <td>3</td>\n",
       "      <td>0</td>\n",
       "      <td>6</td>\n",
       "      <td>0</td>\n",
       "      <td>1</td>\n",
       "      <td>0.24</td>\n",
       "      <td>0.2879</td>\n",
       "      <td>0.75</td>\n",
       "      <td>0.0000</td>\n",
       "      <td>13</td>\n",
       "      <td>BELOW_A</td>\n",
       "    </tr>\n",
       "    <tr>\n",
       "      <th>4</th>\n",
       "      <td>1</td>\n",
       "      <td>0</td>\n",
       "      <td>1</td>\n",
       "      <td>4</td>\n",
       "      <td>0</td>\n",
       "      <td>6</td>\n",
       "      <td>0</td>\n",
       "      <td>1</td>\n",
       "      <td>0.24</td>\n",
       "      <td>0.2879</td>\n",
       "      <td>0.75</td>\n",
       "      <td>0.0000</td>\n",
       "      <td>1</td>\n",
       "      <td>BELOW_A</td>\n",
       "    </tr>\n",
       "    <tr>\n",
       "      <th>...</th>\n",
       "      <td>...</td>\n",
       "      <td>...</td>\n",
       "      <td>...</td>\n",
       "      <td>...</td>\n",
       "      <td>...</td>\n",
       "      <td>...</td>\n",
       "      <td>...</td>\n",
       "      <td>...</td>\n",
       "      <td>...</td>\n",
       "      <td>...</td>\n",
       "      <td>...</td>\n",
       "      <td>...</td>\n",
       "      <td>...</td>\n",
       "      <td>...</td>\n",
       "    </tr>\n",
       "    <tr>\n",
       "      <th>95</th>\n",
       "      <td>1</td>\n",
       "      <td>0</td>\n",
       "      <td>1</td>\n",
       "      <td>4</td>\n",
       "      <td>0</td>\n",
       "      <td>3</td>\n",
       "      <td>1</td>\n",
       "      <td>1</td>\n",
       "      <td>0.24</td>\n",
       "      <td>0.2273</td>\n",
       "      <td>0.48</td>\n",
       "      <td>0.2239</td>\n",
       "      <td>2</td>\n",
       "      <td>BELOW_A</td>\n",
       "    </tr>\n",
       "    <tr>\n",
       "      <th>96</th>\n",
       "      <td>1</td>\n",
       "      <td>0</td>\n",
       "      <td>1</td>\n",
       "      <td>5</td>\n",
       "      <td>0</td>\n",
       "      <td>3</td>\n",
       "      <td>1</td>\n",
       "      <td>1</td>\n",
       "      <td>0.22</td>\n",
       "      <td>0.2273</td>\n",
       "      <td>0.47</td>\n",
       "      <td>0.1642</td>\n",
       "      <td>3</td>\n",
       "      <td>BELOW_A</td>\n",
       "    </tr>\n",
       "    <tr>\n",
       "      <th>97</th>\n",
       "      <td>1</td>\n",
       "      <td>0</td>\n",
       "      <td>1</td>\n",
       "      <td>6</td>\n",
       "      <td>0</td>\n",
       "      <td>3</td>\n",
       "      <td>1</td>\n",
       "      <td>1</td>\n",
       "      <td>0.20</td>\n",
       "      <td>0.1970</td>\n",
       "      <td>0.47</td>\n",
       "      <td>0.2239</td>\n",
       "      <td>33</td>\n",
       "      <td>BELOW_A</td>\n",
       "    </tr>\n",
       "    <tr>\n",
       "      <th>98</th>\n",
       "      <td>1</td>\n",
       "      <td>0</td>\n",
       "      <td>1</td>\n",
       "      <td>7</td>\n",
       "      <td>0</td>\n",
       "      <td>3</td>\n",
       "      <td>1</td>\n",
       "      <td>1</td>\n",
       "      <td>0.18</td>\n",
       "      <td>0.1818</td>\n",
       "      <td>0.43</td>\n",
       "      <td>0.1940</td>\n",
       "      <td>88</td>\n",
       "      <td>BELOW_A</td>\n",
       "    </tr>\n",
       "    <tr>\n",
       "      <th>99</th>\n",
       "      <td>1</td>\n",
       "      <td>0</td>\n",
       "      <td>1</td>\n",
       "      <td>8</td>\n",
       "      <td>0</td>\n",
       "      <td>3</td>\n",
       "      <td>1</td>\n",
       "      <td>1</td>\n",
       "      <td>0.20</td>\n",
       "      <td>0.1818</td>\n",
       "      <td>0.40</td>\n",
       "      <td>0.2985</td>\n",
       "      <td>195</td>\n",
       "      <td>ABOVE_A</td>\n",
       "    </tr>\n",
       "  </tbody>\n",
       "</table>\n",
       "<p>100 rows × 14 columns</p>\n",
       "</div>"
      ],
      "text/plain": [
       "    season  yr  mnth  hr  holiday  weekday  workingday  weathersit  temp  \\\n",
       "0        1   0     1   0        0        6           0           1  0.24   \n",
       "1        1   0     1   1        0        6           0           1  0.22   \n",
       "2        1   0     1   2        0        6           0           1  0.22   \n",
       "3        1   0     1   3        0        6           0           1  0.24   \n",
       "4        1   0     1   4        0        6           0           1  0.24   \n",
       "..     ...  ..   ...  ..      ...      ...         ...         ...   ...   \n",
       "95       1   0     1   4        0        3           1           1  0.24   \n",
       "96       1   0     1   5        0        3           1           1  0.22   \n",
       "97       1   0     1   6        0        3           1           1  0.20   \n",
       "98       1   0     1   7        0        3           1           1  0.18   \n",
       "99       1   0     1   8        0        3           1           1  0.20   \n",
       "\n",
       "     atemp   hum  windspeed  cnt   target  \n",
       "0   0.2879  0.81     0.0000   16  BELOW_A  \n",
       "1   0.2727  0.80     0.0000   40  BELOW_A  \n",
       "2   0.2727  0.80     0.0000   32  BELOW_A  \n",
       "3   0.2879  0.75     0.0000   13  BELOW_A  \n",
       "4   0.2879  0.75     0.0000    1  BELOW_A  \n",
       "..     ...   ...        ...  ...      ...  \n",
       "95  0.2273  0.48     0.2239    2  BELOW_A  \n",
       "96  0.2273  0.47     0.1642    3  BELOW_A  \n",
       "97  0.1970  0.47     0.2239   33  BELOW_A  \n",
       "98  0.1818  0.43     0.1940   88  BELOW_A  \n",
       "99  0.1818  0.40     0.2985  195  ABOVE_A  \n",
       "\n",
       "[100 rows x 14 columns]"
      ]
     },
     "execution_count": 45,
     "metadata": {},
     "output_type": "execute_result"
    }
   ],
   "source": [
    "#ciljna varijabla\n",
    "#cnt stupac je broj ukupnih korisnika(registriranih i ne registriranih) koji su unajmili bicikl\n",
    "#izračunata je srednja vrijednost, te oni koji su iznad prosjeka su označeni s ABOVE_A, a oni ispod BELOW_A\n",
    "m_value = df[\"cnt\"].mean()\n",
    "df[\"target\"] = \"ABOVE_A\"\n",
    "df.loc[df.cnt < m_value, \"target\"] = \"BELOW_A\"\n",
    "df.head(100)"
   ]
  },
  {
   "cell_type": "code",
   "execution_count": 46,
   "id": "da1f2279",
   "metadata": {},
   "outputs": [
    {
     "data": {
      "text/plain": [
       "count       17379\n",
       "unique          2\n",
       "top       BELOW_A\n",
       "freq        10444\n",
       "Name: target, dtype: object"
      ]
     },
     "execution_count": 46,
     "metadata": {},
     "output_type": "execute_result"
    }
   ],
   "source": [
    "#provjerimo da su samo dvije uniqe vrijednosti \n",
    "df.target.describe()"
   ]
  },
  {
   "cell_type": "code",
   "execution_count": 47,
   "id": "45f5bd49",
   "metadata": {},
   "outputs": [
    {
     "name": "stdout",
     "output_type": "stream",
     "text": [
      "<class 'pandas.core.frame.DataFrame'>\n",
      "RangeIndex: 17379 entries, 0 to 17378\n",
      "Data columns (total 14 columns):\n",
      " #   Column      Non-Null Count  Dtype  \n",
      "---  ------      --------------  -----  \n",
      " 0   season      17379 non-null  int64  \n",
      " 1   yr          17379 non-null  int64  \n",
      " 2   mnth        17379 non-null  int64  \n",
      " 3   hr          17379 non-null  int64  \n",
      " 4   holiday     17379 non-null  int64  \n",
      " 5   weekday     17379 non-null  int64  \n",
      " 6   workingday  17379 non-null  int64  \n",
      " 7   weathersit  17379 non-null  int64  \n",
      " 8   temp        17379 non-null  float64\n",
      " 9   atemp       17379 non-null  float64\n",
      " 10  hum         17379 non-null  float64\n",
      " 11  windspeed   17379 non-null  float64\n",
      " 12  cnt         17379 non-null  int64  \n",
      " 13  target      17379 non-null  object \n",
      "dtypes: float64(4), int64(9), object(1)\n",
      "memory usage: 1.9+ MB\n"
     ]
    }
   ],
   "source": [
    "df.info()"
   ]
  },
  {
   "cell_type": "markdown",
   "id": "df5a3b9b",
   "metadata": {},
   "source": [
    "# Distribucija kategoričkih varijabli"
   ]
  },
  {
   "cell_type": "code",
   "execution_count": 48,
   "id": "764c4eef",
   "metadata": {},
   "outputs": [
    {
     "data": {
      "text/plain": [
       "<AxesSubplot:xlabel='season'>"
      ]
     },
     "execution_count": 48,
     "metadata": {},
     "output_type": "execute_result"
    },
    {
     "data": {
      "image/png": "[encoded data removed]",
      "text/plain": [
       "<Figure size 432x288 with 1 Axes>"
      ]
     },
     "metadata": {
      "needs_background": "light"
     },
     "output_type": "display_data"
    }
   ],
   "source": [
    "#season (1:spring, 2:summer, 3:fall, 4:winter)\n",
    "#broj posuđenih bicikala po godišnjem dobu\n",
    "groupbySeason = df.groupby(by = 'season').size()\n",
    "groupbySeason.plot.bar()"
   ]
  },
  {
   "cell_type": "code",
   "execution_count": 49,
   "id": "04a30853",
   "metadata": {},
   "outputs": [
    {
     "data": {
      "text/plain": [
       "<AxesSubplot:xlabel='weathersit'>"
      ]
     },
     "execution_count": 49,
     "metadata": {},
     "output_type": "execute_result"
    },
    {
     "data": {
      "image/png": "[encoded data removed]",
      "text/plain": [
       "<Figure size 432x288 with 1 Axes>"
      ]
     },
     "metadata": {
      "needs_background": "light"
     },
     "output_type": "display_data"
    }
   ],
   "source": [
    "#weathersit : \n",
    "#\t\t- 1: Clear, Few clouds, Partly cloudy, Partly cloudy\n",
    "#\t\t- 2: Mist + Cloudy, Mist + Broken clouds, Mist + Few clouds, Mist\n",
    "#\t\t- 3: Light Snow, Light Rain + Thunderstorm + Scattered clouds, Light Rain + Scattered clouds\n",
    "#\t\t- 4: Heavy Rain + Ice Pallets + Thunderstorm + Mist, Snow + Fog\n",
    "\n",
    "#broj posuđenih bicikala prema vremenskim uvjetima\n",
    "groupbyWeathersit = df.groupby(by = 'weathersit').size()\n",
    "groupbyWeathersit.plot.bar()"
   ]
  },
  {
   "cell_type": "code",
   "execution_count": 50,
   "id": "bc70815f",
   "metadata": {},
   "outputs": [
    {
     "data": {
      "text/plain": [
       "<AxesSubplot:xlabel='mnth'>"
      ]
     },
     "execution_count": 50,
     "metadata": {},
     "output_type": "execute_result"
    },
    {
     "data": {
      "image/png": "[encoded data removed]",
      "text/plain": [
       "<Figure size 432x288 with 1 Axes>"
      ]
     },
     "metadata": {
      "needs_background": "light"
     },
     "output_type": "display_data"
    }
   ],
   "source": [
    "#mnth : month ( 1 to 12)\n",
    "#broj posuđenih bicikala prema mjesecu\n",
    "groupbyMnth = df.groupby(by = 'mnth').size()\n",
    "groupbyMnth.plot.bar()"
   ]
  },
  {
   "cell_type": "code",
   "execution_count": 51,
   "id": "e4553215",
   "metadata": {},
   "outputs": [
    {
     "data": {
      "text/plain": [
       "<AxesSubplot:xlabel='weekday'>"
      ]
     },
     "execution_count": 51,
     "metadata": {},
     "output_type": "execute_result"
    },
    {
     "data": {
      "image/png": "[encoded data removed]",
      "text/plain": [
       "<Figure size 432x288 with 1 Axes>"
      ]
     },
     "metadata": {
      "needs_background": "light"
     },
     "output_type": "display_data"
    }
   ],
   "source": [
    "#weekday : day of the week\n",
    "#broj posuđenih bicikala prema danu u tjednu\n",
    "groupbyWeekday = df.groupby(by = 'weekday').size()\n",
    "groupbyWeekday.plot.bar()"
   ]
  },
  {
   "cell_type": "code",
   "execution_count": 52,
   "id": "0b6c2244",
   "metadata": {},
   "outputs": [
    {
     "data": {
      "text/plain": [
       "<AxesSubplot:xlabel='holiday'>"
      ]
     },
     "execution_count": 52,
     "metadata": {},
     "output_type": "execute_result"
    },
    {
     "data": {
      "image/png": "[encoded data removed]",
      "text/plain": [
       "<Figure size 432x288 with 1 Axes>"
      ]
     },
     "metadata": {
      "needs_background": "light"
     },
     "output_type": "display_data"
    }
   ],
   "source": [
    "#holiday : weather day is holiday or not\n",
    "#broj posuđenih bicikala s obzirom na to je li praznik ili ne\n",
    "groupbyHoliday = df.groupby(by = 'holiday').size()\n",
    "groupbyHoliday.plot.bar()"
   ]
  },
  {
   "cell_type": "code",
   "execution_count": 53,
   "id": "b70af9bc",
   "metadata": {},
   "outputs": [
    {
     "data": {
      "text/plain": [
       "<AxesSubplot:xlabel='workingday'>"
      ]
     },
     "execution_count": 53,
     "metadata": {},
     "output_type": "execute_result"
    },
    {
     "data": {
      "image/png": "[encoded data removed]",
      "text/plain": [
       "<Figure size 432x288 with 1 Axes>"
      ]
     },
     "metadata": {
      "needs_background": "light"
     },
     "output_type": "display_data"
    }
   ],
   "source": [
    "#workingday : if day is neither weekend nor holiday is 1, otherwise is 0.\n",
    "#broj posuđenih bicikala s obzirom na to je li radni dan ili ne\n",
    "groupbyWorkingday = df.groupby(by = 'workingday').size()\n",
    "groupbyWorkingday.plot.bar()"
   ]
  },
  {
   "cell_type": "code",
   "execution_count": 54,
   "id": "97111aa1",
   "metadata": {},
   "outputs": [
    {
     "data": {
      "text/plain": [
       "<AxesSubplot:xlabel='hr'>"
      ]
     },
     "execution_count": 54,
     "metadata": {},
     "output_type": "execute_result"
    },
    {
     "data": {
      "image/png": "[encoded data removed]",
      "text/plain": [
       "<Figure size 432x288 with 1 Axes>"
      ]
     },
     "metadata": {
      "needs_background": "light"
     },
     "output_type": "display_data"
    }
   ],
   "source": [
    "#hr : hour (0 to 23)\n",
    "#broj posuđenih bicikala prema satu\n",
    "groupbyHr = df.groupby(by = 'hr').size()\n",
    "groupbyHr.plot.bar()"
   ]
  },
  {
   "cell_type": "markdown",
   "id": "2d081fd7",
   "metadata": {},
   "source": [
    "# Kontinuirane varijable"
   ]
  },
  {
   "cell_type": "code",
   "execution_count": 55,
   "id": "d552b299",
   "metadata": {},
   "outputs": [
    {
     "data": {
      "text/plain": [
       "temp         0.496987\n",
       "atemp        0.475775\n",
       "hum          0.627229\n",
       "windspeed    0.190098\n",
       "Name: mean, dtype: float64"
      ]
     },
     "execution_count": 55,
     "metadata": {},
     "output_type": "execute_result"
    }
   ],
   "source": [
    "#srednja vrijednost\n",
    "df_con = df[[\"temp\", \"atemp\", \"hum\", \"windspeed\"]]\n",
    "df_con.describe().loc[\"mean\"]"
   ]
  },
  {
   "cell_type": "code",
   "execution_count": 56,
   "id": "5f3f3668",
   "metadata": {},
   "outputs": [
    {
     "data": {
      "text/html": [
       "<div>\n",
       "<style scoped>\n",
       "    .dataframe tbody tr th:only-of-type {\n",
       "        vertical-align: middle;\n",
       "    }\n",
       "\n",
       "    .dataframe tbody tr th {\n",
       "        vertical-align: top;\n",
       "    }\n",
       "\n",
       "    .dataframe thead th {\n",
       "        text-align: right;\n",
       "    }\n",
       "</style>\n",
       "<table border=\"1\" class=\"dataframe\">\n",
       "  <thead>\n",
       "    <tr style=\"text-align: right;\">\n",
       "      <th></th>\n",
       "      <th>temp</th>\n",
       "      <th>atemp</th>\n",
       "      <th>hum</th>\n",
       "      <th>windspeed</th>\n",
       "      <th>temp_Z_vrijednost</th>\n",
       "      <th>atemp_Z_vrijednost</th>\n",
       "      <th>hum_Z_vrijednost</th>\n",
       "      <th>windspeed_Z_vrijednost</th>\n",
       "    </tr>\n",
       "  </thead>\n",
       "  <tbody>\n",
       "    <tr>\n",
       "      <th>0</th>\n",
       "      <td>0.24</td>\n",
       "      <td>0.2879</td>\n",
       "      <td>0.81</td>\n",
       "      <td>0.0</td>\n",
       "      <td>-1.334648</td>\n",
       "      <td>-1.093281</td>\n",
       "      <td>0.947372</td>\n",
       "      <td>-1.553889</td>\n",
       "    </tr>\n",
       "    <tr>\n",
       "      <th>1</th>\n",
       "      <td>0.22</td>\n",
       "      <td>0.2727</td>\n",
       "      <td>0.80</td>\n",
       "      <td>0.0</td>\n",
       "      <td>-1.438516</td>\n",
       "      <td>-1.181732</td>\n",
       "      <td>0.895539</td>\n",
       "      <td>-1.553889</td>\n",
       "    </tr>\n",
       "    <tr>\n",
       "      <th>2</th>\n",
       "      <td>0.22</td>\n",
       "      <td>0.2727</td>\n",
       "      <td>0.80</td>\n",
       "      <td>0.0</td>\n",
       "      <td>-1.438516</td>\n",
       "      <td>-1.181732</td>\n",
       "      <td>0.895539</td>\n",
       "      <td>-1.553889</td>\n",
       "    </tr>\n",
       "    <tr>\n",
       "      <th>3</th>\n",
       "      <td>0.24</td>\n",
       "      <td>0.2879</td>\n",
       "      <td>0.75</td>\n",
       "      <td>0.0</td>\n",
       "      <td>-1.334648</td>\n",
       "      <td>-1.093281</td>\n",
       "      <td>0.636370</td>\n",
       "      <td>-1.553889</td>\n",
       "    </tr>\n",
       "    <tr>\n",
       "      <th>4</th>\n",
       "      <td>0.24</td>\n",
       "      <td>0.2879</td>\n",
       "      <td>0.75</td>\n",
       "      <td>0.0</td>\n",
       "      <td>-1.334648</td>\n",
       "      <td>-1.093281</td>\n",
       "      <td>0.636370</td>\n",
       "      <td>-1.553889</td>\n",
       "    </tr>\n",
       "  </tbody>\n",
       "</table>\n",
       "</div>"
      ],
      "text/plain": [
       "   temp   atemp   hum  windspeed  temp_Z_vrijednost  atemp_Z_vrijednost  \\\n",
       "0  0.24  0.2879  0.81        0.0          -1.334648           -1.093281   \n",
       "1  0.22  0.2727  0.80        0.0          -1.438516           -1.181732   \n",
       "2  0.22  0.2727  0.80        0.0          -1.438516           -1.181732   \n",
       "3  0.24  0.2879  0.75        0.0          -1.334648           -1.093281   \n",
       "4  0.24  0.2879  0.75        0.0          -1.334648           -1.093281   \n",
       "\n",
       "   hum_Z_vrijednost  windspeed_Z_vrijednost  \n",
       "0          0.947372               -1.553889  \n",
       "1          0.895539               -1.553889  \n",
       "2          0.895539               -1.553889  \n",
       "3          0.636370               -1.553889  \n",
       "4          0.636370               -1.553889  "
      ]
     },
     "execution_count": 56,
     "metadata": {},
     "output_type": "execute_result"
    }
   ],
   "source": [
    "#z vrijednost\n",
    "pd.options.mode.chained_assignment = None\n",
    "for col in df_con.columns:\n",
    "    col_zscore = col + '_Z_vrijednost'\n",
    "    df_con[col_zscore] = (df[col] - df[col].mean())/df[col].std(ddof=0)\n",
    "\n",
    "df_con.head()"
   ]
  },
  {
   "cell_type": "markdown",
   "id": "4d8db547",
   "metadata": {},
   "source": [
    "Z-vrijednost može biti pozitivna ili negativna, ako je vrijednost pozitivna rezultat je iznad srednje vrijednosti, a ako je\n",
    "negativna rezultat je ispod prosjeka."
   ]
  },
  {
   "cell_type": "code",
   "execution_count": 57,
   "id": "a664c557",
   "metadata": {},
   "outputs": [
    {
     "data": {
      "text/plain": [
       "temp        -0.941844\n",
       "atemp       -0.845412\n",
       "hum         -0.826117\n",
       "windspeed    0.590820\n",
       "dtype: float64"
      ]
     },
     "execution_count": 57,
     "metadata": {},
     "output_type": "execute_result"
    }
   ],
   "source": [
    "#zaobljenost distribucije\n",
    "df_con = df[[\"temp\", \"atemp\", \"hum\", \"windspeed\"]]\n",
    "df_con.kurtosis()"
   ]
  },
  {
   "cell_type": "markdown",
   "id": "bced4886",
   "metadata": {},
   "source": [
    "-temp, atemp, hum imaju negativnu zaobljenost distribucije \n",
    "-windspeed ima pozitivnu zaobljenost"
   ]
  },
  {
   "cell_type": "code",
   "execution_count": 58,
   "id": "57a15ce2",
   "metadata": {},
   "outputs": [
    {
     "data": {
      "text/plain": [
       "temp        -0.006021\n",
       "atemp       -0.090429\n",
       "hum         -0.111287\n",
       "windspeed    0.574905\n",
       "dtype: float64"
      ]
     },
     "execution_count": 58,
     "metadata": {},
     "output_type": "execute_result"
    }
   ],
   "source": [
    "#nagnutost distribucije\n",
    "df_con = df[[\"temp\", \"atemp\", \"hum\", \"windspeed\"]]\n",
    "df_con.skew()"
   ]
  },
  {
   "cell_type": "markdown",
   "id": "0be7c881",
   "metadata": {},
   "source": [
    "-temp, atemp, hum imaju lijevo nagnutu distribuciju\n",
    "-windspeed ima desno nagnutu distribuciju "
   ]
  },
  {
   "cell_type": "code",
   "execution_count": 59,
   "id": "cb9ceb3a",
   "metadata": {},
   "outputs": [
    {
     "data": {
      "text/plain": [
       "season        0.178056\n",
       "yr            0.250495\n",
       "mnth          0.120638\n",
       "hr            0.394071\n",
       "holiday      -0.030927\n",
       "weekday       0.026900\n",
       "workingday    0.030284\n",
       "weathersit   -0.142426\n",
       "temp          0.404772\n",
       "atemp         0.400929\n",
       "hum          -0.322911\n",
       "windspeed     0.093234\n",
       "cnt           1.000000\n",
       "Name: cnt, dtype: float64"
      ]
     },
     "execution_count": 59,
     "metadata": {},
     "output_type": "execute_result"
    }
   ],
   "source": [
    "# korelacije svake varijable s ciljnom varijablom\n",
    "df[df.columns[:]].corr()[\"cnt\"][:]"
   ]
  },
  {
   "cell_type": "code",
   "execution_count": 60,
   "id": "e5b97d54",
   "metadata": {},
   "outputs": [
    {
     "data": {
      "text/plain": [
       "season        (-3 do 3)\n",
       "yr            (-3 do 3)\n",
       "mnth          (-3 do 3)\n",
       "hr            (-3 do 3)\n",
       "holiday       (-3 do 3)\n",
       "weekday       (-3 do 3)\n",
       "workingday    (-3 do 3)\n",
       "weathersit    (-3 do 3)\n",
       "temp          (-3 do 3)\n",
       "atemp         (-3 do 3)\n",
       "hum           (-3 do 3)\n",
       "windspeed     (-3 do 3)\n",
       "cnt           (-3 do 3)\n",
       "Name: cnt, dtype: category\n",
       "Categories (3, object): ['<-3' < '(-3 do 3)' < '>3']"
      ]
     },
     "execution_count": 60,
     "metadata": {},
     "output_type": "execute_result"
    }
   ],
   "source": [
    "bins = [-float(\"inf\"), -3, 3, float(\"inf\")]\n",
    "names = [\"<-3\", \"(-3 do 3)\", \">3\"]\n",
    "\n",
    "corrs = df[df.columns[:]].corr()[\"cnt\"][:]\n",
    "pd.cut(((corrs-corrs.mean()) / corrs.std()), bins, labels=names)"
   ]
  },
  {
   "cell_type": "markdown",
   "id": "a2e8b764",
   "metadata": {},
   "source": [
    "Z-vrjednost od -3,0 do 3,0 da je rezultat unutar tri standardne devijacije svoje srednje vrijednosti.\n",
    "Ovdje vidimo da su sve vrijednosti u razredu od -3 do 3."
   ]
  },
  {
   "cell_type": "markdown",
   "id": "07e68559",
   "metadata": {},
   "source": [
    "# IV & WOE"
   ]
  },
  {
   "cell_type": "code",
   "execution_count": 61,
   "id": "8f9921ef",
   "metadata": {},
   "outputs": [
    {
     "name": "stderr",
     "output_type": "stream",
     "text": [
      "C:\\Users\\mtopalovic\\AppData\\Local\\Temp\\ipykernel_23152\\2849746627.py:6: FutureWarning: In a future version of pandas all arguments of DataFrame.drop except for the argument 'labels' will be keyword-only.\n",
      "  df_cat = df_cat.drop(col, 1).copy()\n",
      "C:\\Users\\mtopalovic\\AppData\\Local\\Temp\\ipykernel_23152\\2849746627.py:6: FutureWarning: In a future version of pandas all arguments of DataFrame.drop except for the argument 'labels' will be keyword-only.\n",
      "  df_cat = df_cat.drop(col, 1).copy()\n",
      "C:\\Users\\mtopalovic\\AppData\\Local\\Temp\\ipykernel_23152\\2849746627.py:6: FutureWarning: In a future version of pandas all arguments of DataFrame.drop except for the argument 'labels' will be keyword-only.\n",
      "  df_cat = df_cat.drop(col, 1).copy()\n",
      "C:\\Users\\mtopalovic\\AppData\\Local\\Temp\\ipykernel_23152\\2849746627.py:6: FutureWarning: In a future version of pandas all arguments of DataFrame.drop except for the argument 'labels' will be keyword-only.\n",
      "  df_cat = df_cat.drop(col, 1).copy()\n",
      "C:\\Users\\mtopalovic\\AppData\\Local\\Temp\\ipykernel_23152\\2849746627.py:6: FutureWarning: In a future version of pandas all arguments of DataFrame.drop except for the argument 'labels' will be keyword-only.\n",
      "  df_cat = df_cat.drop(col, 1).copy()\n",
      "C:\\Users\\mtopalovic\\AppData\\Local\\Temp\\ipykernel_23152\\2849746627.py:6: FutureWarning: In a future version of pandas all arguments of DataFrame.drop except for the argument 'labels' will be keyword-only.\n",
      "  df_cat = df_cat.drop(col, 1).copy()\n",
      "C:\\Users\\mtopalovic\\AppData\\Local\\Temp\\ipykernel_23152\\2849746627.py:6: FutureWarning: In a future version of pandas all arguments of DataFrame.drop except for the argument 'labels' will be keyword-only.\n",
      "  df_cat = df_cat.drop(col, 1).copy()\n",
      "C:\\Users\\mtopalovic\\AppData\\Local\\Temp\\ipykernel_23152\\2849746627.py:6: FutureWarning: In a future version of pandas all arguments of DataFrame.drop except for the argument 'labels' will be keyword-only.\n",
      "  df_cat = df_cat.drop(col, 1).copy()\n",
      "C:\\Users\\mtopalovic\\AppData\\Local\\Temp\\ipykernel_23152\\2849746627.py:6: FutureWarning: In a future version of pandas all arguments of DataFrame.drop except for the argument 'labels' will be keyword-only.\n",
      "  df_cat = df_cat.drop(col, 1).copy()\n",
      "C:\\Users\\mtopalovic\\AppData\\Local\\Temp\\ipykernel_23152\\2849746627.py:6: FutureWarning: In a future version of pandas all arguments of DataFrame.drop except for the argument 'labels' will be keyword-only.\n",
      "  df_cat = df_cat.drop(col, 1).copy()\n",
      "C:\\Users\\mtopalovic\\AppData\\Local\\Temp\\ipykernel_23152\\2849746627.py:6: FutureWarning: In a future version of pandas all arguments of DataFrame.drop except for the argument 'labels' will be keyword-only.\n",
      "  df_cat = df_cat.drop(col, 1).copy()\n",
      "C:\\Users\\mtopalovic\\AppData\\Local\\Temp\\ipykernel_23152\\2849746627.py:6: FutureWarning: In a future version of pandas all arguments of DataFrame.drop except for the argument 'labels' will be keyword-only.\n",
      "  df_cat = df_cat.drop(col, 1).copy()\n"
     ]
    },
    {
     "data": {
      "text/html": [
       "<div>\n",
       "<style scoped>\n",
       "    .dataframe tbody tr th:only-of-type {\n",
       "        vertical-align: middle;\n",
       "    }\n",
       "\n",
       "    .dataframe tbody tr th {\n",
       "        vertical-align: top;\n",
       "    }\n",
       "\n",
       "    .dataframe thead th {\n",
       "        text-align: right;\n",
       "    }\n",
       "</style>\n",
       "<table border=\"1\" class=\"dataframe\">\n",
       "  <thead>\n",
       "    <tr style=\"text-align: right;\">\n",
       "      <th></th>\n",
       "      <th>target</th>\n",
       "      <th>season_cat</th>\n",
       "      <th>yr_cat</th>\n",
       "      <th>mnth_cat</th>\n",
       "      <th>hr_cat</th>\n",
       "      <th>holiday_cat</th>\n",
       "      <th>weekday_cat</th>\n",
       "      <th>workingday_cat</th>\n",
       "      <th>weathersit_cat</th>\n",
       "      <th>temp_cat</th>\n",
       "      <th>atemp_cat</th>\n",
       "      <th>hum_cat</th>\n",
       "      <th>windspeed_cat</th>\n",
       "    </tr>\n",
       "  </thead>\n",
       "  <tbody>\n",
       "    <tr>\n",
       "      <th>0</th>\n",
       "      <td>BELOW_A</td>\n",
       "      <td>(0.999, 2.0]</td>\n",
       "      <td>(-0.001, 1.0]</td>\n",
       "      <td>(0.999, 4.0]</td>\n",
       "      <td>(-0.001, 6.0]</td>\n",
       "      <td>(-0.001, 1.0]</td>\n",
       "      <td>(5.0, 6.0]</td>\n",
       "      <td>(-0.001, 1.0]</td>\n",
       "      <td>(0.999, 2.0]</td>\n",
       "      <td>(0.019, 0.34]</td>\n",
       "      <td>(-0.001, 0.333]</td>\n",
       "      <td>(0.78, 1.0]</td>\n",
       "      <td>(-0.001, 0.104]</td>\n",
       "    </tr>\n",
       "    <tr>\n",
       "      <th>1</th>\n",
       "      <td>BELOW_A</td>\n",
       "      <td>(0.999, 2.0]</td>\n",
       "      <td>(-0.001, 1.0]</td>\n",
       "      <td>(0.999, 4.0]</td>\n",
       "      <td>(-0.001, 6.0]</td>\n",
       "      <td>(-0.001, 1.0]</td>\n",
       "      <td>(5.0, 6.0]</td>\n",
       "      <td>(-0.001, 1.0]</td>\n",
       "      <td>(0.999, 2.0]</td>\n",
       "      <td>(0.019, 0.34]</td>\n",
       "      <td>(-0.001, 0.333]</td>\n",
       "      <td>(0.78, 1.0]</td>\n",
       "      <td>(-0.001, 0.104]</td>\n",
       "    </tr>\n",
       "    <tr>\n",
       "      <th>2</th>\n",
       "      <td>BELOW_A</td>\n",
       "      <td>(0.999, 2.0]</td>\n",
       "      <td>(-0.001, 1.0]</td>\n",
       "      <td>(0.999, 4.0]</td>\n",
       "      <td>(-0.001, 6.0]</td>\n",
       "      <td>(-0.001, 1.0]</td>\n",
       "      <td>(5.0, 6.0]</td>\n",
       "      <td>(-0.001, 1.0]</td>\n",
       "      <td>(0.999, 2.0]</td>\n",
       "      <td>(0.019, 0.34]</td>\n",
       "      <td>(-0.001, 0.333]</td>\n",
       "      <td>(0.78, 1.0]</td>\n",
       "      <td>(-0.001, 0.104]</td>\n",
       "    </tr>\n",
       "    <tr>\n",
       "      <th>3</th>\n",
       "      <td>BELOW_A</td>\n",
       "      <td>(0.999, 2.0]</td>\n",
       "      <td>(-0.001, 1.0]</td>\n",
       "      <td>(0.999, 4.0]</td>\n",
       "      <td>(-0.001, 6.0]</td>\n",
       "      <td>(-0.001, 1.0]</td>\n",
       "      <td>(5.0, 6.0]</td>\n",
       "      <td>(-0.001, 1.0]</td>\n",
       "      <td>(0.999, 2.0]</td>\n",
       "      <td>(0.019, 0.34]</td>\n",
       "      <td>(-0.001, 0.333]</td>\n",
       "      <td>(0.63, 0.78]</td>\n",
       "      <td>(-0.001, 0.104]</td>\n",
       "    </tr>\n",
       "    <tr>\n",
       "      <th>4</th>\n",
       "      <td>BELOW_A</td>\n",
       "      <td>(0.999, 2.0]</td>\n",
       "      <td>(-0.001, 1.0]</td>\n",
       "      <td>(0.999, 4.0]</td>\n",
       "      <td>(-0.001, 6.0]</td>\n",
       "      <td>(-0.001, 1.0]</td>\n",
       "      <td>(5.0, 6.0]</td>\n",
       "      <td>(-0.001, 1.0]</td>\n",
       "      <td>(0.999, 2.0]</td>\n",
       "      <td>(0.019, 0.34]</td>\n",
       "      <td>(-0.001, 0.333]</td>\n",
       "      <td>(0.63, 0.78]</td>\n",
       "      <td>(-0.001, 0.104]</td>\n",
       "    </tr>\n",
       "    <tr>\n",
       "      <th>...</th>\n",
       "      <td>...</td>\n",
       "      <td>...</td>\n",
       "      <td>...</td>\n",
       "      <td>...</td>\n",
       "      <td>...</td>\n",
       "      <td>...</td>\n",
       "      <td>...</td>\n",
       "      <td>...</td>\n",
       "      <td>...</td>\n",
       "      <td>...</td>\n",
       "      <td>...</td>\n",
       "      <td>...</td>\n",
       "      <td>...</td>\n",
       "    </tr>\n",
       "    <tr>\n",
       "      <th>95</th>\n",
       "      <td>BELOW_A</td>\n",
       "      <td>(0.999, 2.0]</td>\n",
       "      <td>(-0.001, 1.0]</td>\n",
       "      <td>(0.999, 4.0]</td>\n",
       "      <td>(-0.001, 6.0]</td>\n",
       "      <td>(-0.001, 1.0]</td>\n",
       "      <td>(1.0, 3.0]</td>\n",
       "      <td>(-0.001, 1.0]</td>\n",
       "      <td>(0.999, 2.0]</td>\n",
       "      <td>(0.019, 0.34]</td>\n",
       "      <td>(-0.001, 0.333]</td>\n",
       "      <td>(-0.001, 0.48]</td>\n",
       "      <td>(0.194, 0.254]</td>\n",
       "    </tr>\n",
       "    <tr>\n",
       "      <th>96</th>\n",
       "      <td>BELOW_A</td>\n",
       "      <td>(0.999, 2.0]</td>\n",
       "      <td>(-0.001, 1.0]</td>\n",
       "      <td>(0.999, 4.0]</td>\n",
       "      <td>(-0.001, 6.0]</td>\n",
       "      <td>(-0.001, 1.0]</td>\n",
       "      <td>(1.0, 3.0]</td>\n",
       "      <td>(-0.001, 1.0]</td>\n",
       "      <td>(0.999, 2.0]</td>\n",
       "      <td>(0.019, 0.34]</td>\n",
       "      <td>(-0.001, 0.333]</td>\n",
       "      <td>(-0.001, 0.48]</td>\n",
       "      <td>(0.104, 0.194]</td>\n",
       "    </tr>\n",
       "    <tr>\n",
       "      <th>97</th>\n",
       "      <td>BELOW_A</td>\n",
       "      <td>(0.999, 2.0]</td>\n",
       "      <td>(-0.001, 1.0]</td>\n",
       "      <td>(0.999, 4.0]</td>\n",
       "      <td>(-0.001, 6.0]</td>\n",
       "      <td>(-0.001, 1.0]</td>\n",
       "      <td>(1.0, 3.0]</td>\n",
       "      <td>(-0.001, 1.0]</td>\n",
       "      <td>(0.999, 2.0]</td>\n",
       "      <td>(0.019, 0.34]</td>\n",
       "      <td>(-0.001, 0.333]</td>\n",
       "      <td>(-0.001, 0.48]</td>\n",
       "      <td>(0.194, 0.254]</td>\n",
       "    </tr>\n",
       "    <tr>\n",
       "      <th>98</th>\n",
       "      <td>BELOW_A</td>\n",
       "      <td>(0.999, 2.0]</td>\n",
       "      <td>(-0.001, 1.0]</td>\n",
       "      <td>(0.999, 4.0]</td>\n",
       "      <td>(6.0, 12.0]</td>\n",
       "      <td>(-0.001, 1.0]</td>\n",
       "      <td>(1.0, 3.0]</td>\n",
       "      <td>(-0.001, 1.0]</td>\n",
       "      <td>(0.999, 2.0]</td>\n",
       "      <td>(0.019, 0.34]</td>\n",
       "      <td>(-0.001, 0.333]</td>\n",
       "      <td>(-0.001, 0.48]</td>\n",
       "      <td>(0.104, 0.194]</td>\n",
       "    </tr>\n",
       "    <tr>\n",
       "      <th>99</th>\n",
       "      <td>ABOVE_A</td>\n",
       "      <td>(0.999, 2.0]</td>\n",
       "      <td>(-0.001, 1.0]</td>\n",
       "      <td>(0.999, 4.0]</td>\n",
       "      <td>(6.0, 12.0]</td>\n",
       "      <td>(-0.001, 1.0]</td>\n",
       "      <td>(1.0, 3.0]</td>\n",
       "      <td>(-0.001, 1.0]</td>\n",
       "      <td>(0.999, 2.0]</td>\n",
       "      <td>(0.019, 0.34]</td>\n",
       "      <td>(-0.001, 0.333]</td>\n",
       "      <td>(-0.001, 0.48]</td>\n",
       "      <td>(0.254, 0.851]</td>\n",
       "    </tr>\n",
       "  </tbody>\n",
       "</table>\n",
       "<p>100 rows × 13 columns</p>\n",
       "</div>"
      ],
      "text/plain": [
       "     target    season_cat         yr_cat      mnth_cat         hr_cat  \\\n",
       "0   BELOW_A  (0.999, 2.0]  (-0.001, 1.0]  (0.999, 4.0]  (-0.001, 6.0]   \n",
       "1   BELOW_A  (0.999, 2.0]  (-0.001, 1.0]  (0.999, 4.0]  (-0.001, 6.0]   \n",
       "2   BELOW_A  (0.999, 2.0]  (-0.001, 1.0]  (0.999, 4.0]  (-0.001, 6.0]   \n",
       "3   BELOW_A  (0.999, 2.0]  (-0.001, 1.0]  (0.999, 4.0]  (-0.001, 6.0]   \n",
       "4   BELOW_A  (0.999, 2.0]  (-0.001, 1.0]  (0.999, 4.0]  (-0.001, 6.0]   \n",
       "..      ...           ...            ...           ...            ...   \n",
       "95  BELOW_A  (0.999, 2.0]  (-0.001, 1.0]  (0.999, 4.0]  (-0.001, 6.0]   \n",
       "96  BELOW_A  (0.999, 2.0]  (-0.001, 1.0]  (0.999, 4.0]  (-0.001, 6.0]   \n",
       "97  BELOW_A  (0.999, 2.0]  (-0.001, 1.0]  (0.999, 4.0]  (-0.001, 6.0]   \n",
       "98  BELOW_A  (0.999, 2.0]  (-0.001, 1.0]  (0.999, 4.0]    (6.0, 12.0]   \n",
       "99  ABOVE_A  (0.999, 2.0]  (-0.001, 1.0]  (0.999, 4.0]    (6.0, 12.0]   \n",
       "\n",
       "      holiday_cat weekday_cat workingday_cat weathersit_cat       temp_cat  \\\n",
       "0   (-0.001, 1.0]  (5.0, 6.0]  (-0.001, 1.0]   (0.999, 2.0]  (0.019, 0.34]   \n",
       "1   (-0.001, 1.0]  (5.0, 6.0]  (-0.001, 1.0]   (0.999, 2.0]  (0.019, 0.34]   \n",
       "2   (-0.001, 1.0]  (5.0, 6.0]  (-0.001, 1.0]   (0.999, 2.0]  (0.019, 0.34]   \n",
       "3   (-0.001, 1.0]  (5.0, 6.0]  (-0.001, 1.0]   (0.999, 2.0]  (0.019, 0.34]   \n",
       "4   (-0.001, 1.0]  (5.0, 6.0]  (-0.001, 1.0]   (0.999, 2.0]  (0.019, 0.34]   \n",
       "..            ...         ...            ...            ...            ...   \n",
       "95  (-0.001, 1.0]  (1.0, 3.0]  (-0.001, 1.0]   (0.999, 2.0]  (0.019, 0.34]   \n",
       "96  (-0.001, 1.0]  (1.0, 3.0]  (-0.001, 1.0]   (0.999, 2.0]  (0.019, 0.34]   \n",
       "97  (-0.001, 1.0]  (1.0, 3.0]  (-0.001, 1.0]   (0.999, 2.0]  (0.019, 0.34]   \n",
       "98  (-0.001, 1.0]  (1.0, 3.0]  (-0.001, 1.0]   (0.999, 2.0]  (0.019, 0.34]   \n",
       "99  (-0.001, 1.0]  (1.0, 3.0]  (-0.001, 1.0]   (0.999, 2.0]  (0.019, 0.34]   \n",
       "\n",
       "          atemp_cat         hum_cat    windspeed_cat  \n",
       "0   (-0.001, 0.333]     (0.78, 1.0]  (-0.001, 0.104]  \n",
       "1   (-0.001, 0.333]     (0.78, 1.0]  (-0.001, 0.104]  \n",
       "2   (-0.001, 0.333]     (0.78, 1.0]  (-0.001, 0.104]  \n",
       "3   (-0.001, 0.333]    (0.63, 0.78]  (-0.001, 0.104]  \n",
       "4   (-0.001, 0.333]    (0.63, 0.78]  (-0.001, 0.104]  \n",
       "..              ...             ...              ...  \n",
       "95  (-0.001, 0.333]  (-0.001, 0.48]   (0.194, 0.254]  \n",
       "96  (-0.001, 0.333]  (-0.001, 0.48]   (0.104, 0.194]  \n",
       "97  (-0.001, 0.333]  (-0.001, 0.48]   (0.194, 0.254]  \n",
       "98  (-0.001, 0.333]  (-0.001, 0.48]   (0.104, 0.194]  \n",
       "99  (-0.001, 0.333]  (-0.001, 0.48]   (0.254, 0.851]  \n",
       "\n",
       "[100 rows x 13 columns]"
      ]
     },
     "execution_count": 61,
     "metadata": {},
     "output_type": "execute_result"
    }
   ],
   "source": [
    "#pretvaranje u kategoričke varijable\n",
    "df_cat = df[[\"season\", \"yr\", \"mnth\", \"hr\", \"holiday\", \"weekday\", \"workingday\", \"weathersit\", \"temp\", \"atemp\", \"hum\", \"windspeed\", \"target\"]]\n",
    "for col in df_cat.columns:\n",
    "    if(col != \"target\"):\n",
    "        df_cat[col + \"_cat\"] = pd.qcut(df_cat[col], 4, duplicates=\"drop\")\n",
    "        df_cat = df_cat.drop(col, 1).copy()\n",
    "\n",
    "df_cat.head(100)"
   ]
  },
  {
   "cell_type": "code",
   "execution_count": 62,
   "id": "d02974bd",
   "metadata": {},
   "outputs": [
    {
     "name": "stdout",
     "output_type": "stream",
     "text": [
      "         Varijabla        IV    Prediktivnost\n",
      "3           hr_cat  2.896152  izniman utjecaj\n",
      "8         temp_cat  0.646078  izniman utjecaj\n",
      "9        atemp_cat  0.624223  izniman utjecaj\n",
      "10         hum_cat  0.398894      jak utjecaj\n",
      "2         mnth_cat  0.224400  srednji utjecaj\n",
      "0       season_cat  0.117802  srednji utjecaj\n",
      "7   weathersit_cat  0.079219     slab utjecaj\n",
      "11   windspeed_cat  0.038428     slab utjecaj\n",
      "5      weekday_cat  0.008802    nema utjecaja\n",
      "1           yr_cat  0.000000    nema utjecaja\n",
      "4      holiday_cat  0.000000    nema utjecaja\n",
      "6   workingday_cat  0.000000    nema utjecaja\n"
     ]
    }
   ],
   "source": [
    "def WoE(varijabla, ciljna):\n",
    "    IV=pd.crosstab(varijabla,ciljna).apply(lambda c: c/c.sum(), axis=0)\n",
    "    IV[\"WoE\"] = np.log((IV[\"ABOVE_A\"]/IV[\"BELOW_A\"]) if IV[\"BELOW_A\"].any() else IV[\"ABOVE_A\"])\n",
    "    IV[\"IV\"] = (IV[\"ABOVE_A\"]-IV[\"BELOW_A\"])* np.log((IV[\"ABOVE_A\"]/IV[\"BELOW_A\"]) if IV[\"BELOW_A\"].any() else IV[\"ABOVE_A\"])\n",
    "    return IV\n",
    "\n",
    "IV = pd.DataFrame(columns=[\"Varijabla\", \"IV\", \"Prediktivnost\"])\n",
    "for col in df_cat.columns:\n",
    "    if(col != \"target\"):\n",
    "        iv = WoE(df_cat[col], df_cat.target)[\"IV\"].sum()\n",
    "        if iv < 0.02:\n",
    "            prediktivnost = \"nema utjecaja\"\n",
    "        elif iv <= 0.1:\n",
    "            prediktivnost = \"slab utjecaj\"\n",
    "        elif iv <= 0.3:\n",
    "            prediktivnost = \"srednji utjecaj\"\n",
    "        elif iv <= 0.5:\n",
    "            prediktivnost = \"jak utjecaj\"\n",
    "        else:\n",
    "            prediktivnost = \"izniman utjecaj\"\n",
    "        \n",
    "        IV.loc[len(IV)]=[col, iv, prediktivnost]\n",
    "        \n",
    "print(IV.sort_values(by=\"IV\", ascending=False))"
   ]
  },
  {
   "cell_type": "markdown",
   "id": "20a0fb95",
   "metadata": {},
   "source": [
    "WoE grafovi za predikativne varijable:"
   ]
  },
  {
   "cell_type": "code",
   "execution_count": 63,
   "id": "12be4ae0",
   "metadata": {},
   "outputs": [
    {
     "data": {
      "text/plain": [
       "<AxesSubplot:xlabel='temp_cat'>"
      ]
     },
     "execution_count": 63,
     "metadata": {},
     "output_type": "execute_result"
    },
    {
     "data": {
      "image/png": "[encoded data removed]",
      "text/plain": [
       "<Figure size 432x288 with 1 Axes>"
      ]
     },
     "metadata": {
      "needs_background": "light"
     },
     "output_type": "display_data"
    }
   ],
   "source": [
    "WoE(df_cat.temp_cat, df_cat.target)[\"WoE\"].plot(kind=\"bar\")"
   ]
  },
  {
   "cell_type": "code",
   "execution_count": 64,
   "id": "f910951e",
   "metadata": {},
   "outputs": [
    {
     "data": {
      "text/plain": [
       "<AxesSubplot:xlabel='atemp_cat'>"
      ]
     },
     "execution_count": 64,
     "metadata": {},
     "output_type": "execute_result"
    },
    {
     "data": {
      "image/png": "[encoded data removed]",
      "text/plain": [
       "<Figure size 432x288 with 1 Axes>"
      ]
     },
     "metadata": {
      "needs_background": "light"
     },
     "output_type": "display_data"
    }
   ],
   "source": [
    "WoE(df_cat.atemp_cat, df_cat.target)[\"WoE\"].plot(kind=\"bar\")"
   ]
  },
  {
   "cell_type": "code",
   "execution_count": 65,
   "id": "3f022b85",
   "metadata": {},
   "outputs": [
    {
     "data": {
      "text/plain": [
       "<AxesSubplot:xlabel='hum_cat'>"
      ]
     },
     "execution_count": 65,
     "metadata": {},
     "output_type": "execute_result"
    },
    {
     "data": {
      "image/png": "[encoded data removed]",
      "text/plain": [
       "<Figure size 432x288 with 1 Axes>"
      ]
     },
     "metadata": {
      "needs_background": "light"
     },
     "output_type": "display_data"
    }
   ],
   "source": [
    "WoE(df_cat.hum_cat, df_cat.target)[\"WoE\"].plot(kind=\"bar\")"
   ]
  },
  {
   "cell_type": "code",
   "execution_count": 66,
   "id": "3f8d6850",
   "metadata": {},
   "outputs": [
    {
     "data": {
      "text/plain": [
       "<AxesSubplot:xlabel='mnth_cat'>"
      ]
     },
     "execution_count": 66,
     "metadata": {},
     "output_type": "execute_result"
    },
    {
     "data": {
      "image/png": "[encoded data removed]",
      "text/plain": [
       "<Figure size 432x288 with 1 Axes>"
      ]
     },
     "metadata": {
      "needs_background": "light"
     },
     "output_type": "display_data"
    }
   ],
   "source": [
    "WoE(df_cat.mnth_cat, df_cat.target)[\"WoE\"].plot(kind=\"bar\")"
   ]
  },
  {
   "cell_type": "code",
   "execution_count": 67,
   "id": "ce622edc",
   "metadata": {},
   "outputs": [
    {
     "data": {
      "text/plain": [
       "<AxesSubplot:xlabel='season_cat'>"
      ]
     },
     "execution_count": 67,
     "metadata": {},
     "output_type": "execute_result"
    },
    {
     "data": {
      "image/png": "[encoded data removed]",
      "text/plain": [
       "<Figure size 432x288 with 1 Axes>"
      ]
     },
     "metadata": {
      "needs_background": "light"
     },
     "output_type": "display_data"
    }
   ],
   "source": [
    "WoE(df_cat.season_cat, df_cat.target)[\"WoE\"].plot(kind=\"bar\")"
   ]
  },
  {
   "cell_type": "markdown",
   "id": "e9167bdd",
   "metadata": {},
   "source": [
    "Analizom ovog dataseta smo htjeli utvrditi stupanj utjecaja raličitih uvjeta na broj unajmljenih bicikala. Utvrđeno je da koji je dan u tjednu, je li radni dan, vikend ili praznik nemaju utjecaj na odluku o najmu bicikla. Brzina vjetra i vremenski uvjeti imaju slab utjecaj, tj. za vrmenske uvjete od četiri odstupne kombinacije jedna(pljusak, tuča, snijeg, jaka magla) nije prihvatljiva korisnicima. Srednji utjecaj imaju godišnja doba i mjeseci u godini. Jak utjecaj ima vlažnost zraka, a najveći utjecaj ima temperatura zraka.\n",
    "Dostupna mjerenja vremenskih uvjeta provedena su 2011 i 2012 godine, te se dobiveni nalazi ne mogu primjeniti na sadašnje vrijeme usljed klimatskih promjena."
   ]
  }
 ],
 "metadata": {
  "kernelspec": {
   "display_name": "Python 3 (ipykernel)",
   "language": "python",
   "name": "python3"
  },
  "language_info": {
   "codemirror_mode": {
    "name": "ipython",
    "version": 3
   },
   "file_extension": ".py",
   "mimetype": "text/x-python",
   "name": "python",
   "nbconvert_exporter": "python",
   "pygments_lexer": "ipython3",
   "version": "3.9.12"
  }
 },
 "nbformat": 4,
 "nbformat_minor": 5
}
